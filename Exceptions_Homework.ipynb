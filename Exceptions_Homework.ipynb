{
  "nbformat": 4,
  "nbformat_minor": 0,
  "metadata": {
    "colab": {
      "name": "Exceptions Homework",
      "provenance": [],
      "authorship_tag": "ABX9TyP65pHiLo6u10b/OfO72Bbr",
      "include_colab_link": true
    },
    "kernelspec": {
      "name": "python3",
      "display_name": "Python 3"
    },
    "language_info": {
      "name": "python"
    }
  },
  "cells": [
    {
      "cell_type": "markdown",
      "metadata": {
        "id": "view-in-github",
        "colab_type": "text"
      },
      "source": [
        "<a href=\"https://colab.research.google.com/github/Wasabibish/CLA_HW/blob/main/Exceptions_Homework.ipynb\" target=\"_parent\"><img src=\"https://colab.research.google.com/assets/colab-badge.svg\" alt=\"Open In Colab\"/></a>"
      ]
    },
    {
      "cell_type": "code",
      "execution_count": 6,
      "metadata": {
        "colab": {
          "base_uri": "https://localhost:8080/"
        },
        "id": "3D8Qk_IFjJ14",
        "outputId": "6a4d51d9-57f3-4c55-d086-e0fc0d23383e"
      },
      "outputs": [
        {
          "output_type": "stream",
          "name": "stdout",
          "text": [
            "Exception\n",
            "Im executed in both cases\n"
          ]
        }
      ],
      "source": [
        "a = 12\n",
        "s = \"hello\"\n",
        "try:\n",
        "  print(a+s)\n",
        "except:\n",
        "  print('Exception')\n",
        "else:\n",
        "  print(\"No exception\")\n",
        "finally:\n",
        "  print(\"Im executed in both cases\")"
      ]
    }
  ]
}