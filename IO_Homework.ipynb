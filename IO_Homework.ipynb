{
  "nbformat": 4,
  "nbformat_minor": 0,
  "metadata": {
    "colab": {
      "name": "IO Homework.ipynb",
      "provenance": [],
      "collapsed_sections": [],
      "authorship_tag": "ABX9TyMJ5djuWGp+zHnxC2WqxBGl",
      "include_colab_link": true
    },
    "kernelspec": {
      "name": "python3",
      "display_name": "Python 3"
    },
    "language_info": {
      "name": "python"
    }
  },
  "cells": [
    {
      "cell_type": "markdown",
      "metadata": {
        "id": "view-in-github",
        "colab_type": "text"
      },
      "source": [
        "<a href=\"https://colab.research.google.com/github/Wasabibish/CLA_HW/blob/main/IO_Homework.ipynb\" target=\"_parent\"><img src=\"https://colab.research.google.com/assets/colab-badge.svg\" alt=\"Open In Colab\"/></a>"
      ]
    },
    {
      "cell_type": "markdown",
      "source": [
        "**Read all of the content of the file in one variable.**"
      ],
      "metadata": {
        "id": "R3HzjJqiYqvJ"
      }
    },
    {
      "cell_type": "code",
      "execution_count": 24,
      "metadata": {
        "id": "oi55B61MXE5B"
      },
      "outputs": [],
      "source": [
        "file = open('students_names.txt')\n",
        "students = file.read()\n"
      ]
    },
    {
      "cell_type": "markdown",
      "source": [
        "\n",
        "**Write a list of random names to your file.**\n",
        "\n"
      ],
      "metadata": {
        "id": "aZBd7lRlYxM1"
      }
    },
    {
      "cell_type": "code",
      "source": [
        "new_students = ['First Name','\\nSecond Name','\\nThird Name']\n",
        "file = open('students_names.txt', 'w')\n",
        "for name in (new_students):\n",
        "  file.write(name)"
      ],
      "metadata": {
        "id": "ZqTx3Q9yYwDP"
      },
      "execution_count": 25,
      "outputs": []
    },
    {
      "cell_type": "markdown",
      "source": [
        "**Read the first n lines of the file.**"
      ],
      "metadata": {
        "id": "SUapbI5gZLc0"
      }
    },
    {
      "cell_type": "code",
      "source": [
        "students = students.split('\\n')"
      ],
      "metadata": {
        "id": "5pDjlsvZcc1K"
      },
      "execution_count": 34,
      "outputs": []
    },
    {
      "cell_type": "code",
      "source": [
        "n=2\n",
        "\n",
        "students[:n]"
      ],
      "metadata": {
        "colab": {
          "base_uri": "https://localhost:8080/"
        },
        "id": "mxi4OalrYkJs",
        "outputId": "bedba805-3d78-4852-e3c8-2fe750abc044"
      },
      "execution_count": 38,
      "outputs": [
        {
          "output_type": "execute_result",
          "data": {
            "text/plain": [
              "['First Name', 'Second Name']"
            ]
          },
          "metadata": {},
          "execution_count": 38
        }
      ]
    },
    {
      "cell_type": "markdown",
      "source": [
        "**Read the last n lines of the file.**"
      ],
      "metadata": {
        "id": "d5GyIG97aYTc"
      }
    },
    {
      "cell_type": "code",
      "source": [
        "students[n-1::]"
      ],
      "metadata": {
        "colab": {
          "base_uri": "https://localhost:8080/"
        },
        "id": "oy9mBBWMYkSr",
        "outputId": "d2fe3346-e805-4f56-90ee-3d22f589ed9f"
      },
      "execution_count": 45,
      "outputs": [
        {
          "output_type": "execute_result",
          "data": {
            "text/plain": [
              "['Second Name', 'Third Name']"
            ]
          },
          "metadata": {},
          "execution_count": 45
        }
      ]
    },
    {
      "cell_type": "markdown",
      "source": [
        "**Check if the name x is in the file.**"
      ],
      "metadata": {
        "id": "cHPYip6cacvV"
      }
    },
    {
      "cell_type": "code",
      "source": [
        "x = 'Second Name'\n",
        "\n",
        "x in students"
      ],
      "metadata": {
        "colab": {
          "base_uri": "https://localhost:8080/"
        },
        "id": "f7bVOBx2dk7Z",
        "outputId": "8952573e-54f6-4656-cb76-231139fe40e1"
      },
      "execution_count": 46,
      "outputs": [
        {
          "output_type": "execute_result",
          "data": {
            "text/plain": [
              "True"
            ]
          },
          "metadata": {},
          "execution_count": 46
        }
      ]
    },
    {
      "cell_type": "markdown",
      "source": [
        "**Write a Python program to generate 26 text files named A.txt, B.txt, and so on up to Z.txt.**"
      ],
      "metadata": {
        "id": "dOzgvpYzah6s"
      }
    },
    {
      "cell_type": "code",
      "source": [
        "from string import ascii_uppercase\n",
        "for char in ascii_uppercase:\n",
        "  open(char+'.txt','w')"
      ],
      "metadata": {
        "id": "KpNALRp2e65t"
      },
      "execution_count": 55,
      "outputs": []
    }
  ]
}