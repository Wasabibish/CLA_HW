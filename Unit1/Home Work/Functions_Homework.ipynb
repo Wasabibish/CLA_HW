{
  "nbformat": 4,
  "nbformat_minor": 0,
  "metadata": {
    "colab": {
      "name": "Functions Homework",
      "provenance": [],
      "authorship_tag": "ABX9TyMu7szaD37e/umc+fPEsh8o",
      "include_colab_link": true
    },
    "kernelspec": {
      "name": "python3",
      "display_name": "Python 3"
    },
    "language_info": {
      "name": "python"
    }
  },
  "cells": [
    {
      "cell_type": "markdown",
      "metadata": {
        "id": "view-in-github",
        "colab_type": "text"
      },
      "source": [
        "<a href=\"https://colab.research.google.com/github/Wasabibish/CLA_HW/blob/main/Functions_Homework.ipynb\" target=\"_parent\"><img src=\"https://colab.research.google.com/assets/colab-badge.svg\" alt=\"Open In Colab\"/></a>"
      ]
    },
    {
      "cell_type": "markdown",
      "source": [
        "**Write a Python function that checks whether a passed string is palindrome or not.**"
      ],
      "metadata": {
        "id": "aPUUHbvuombK"
      }
    },
    {
      "cell_type": "code",
      "execution_count": 6,
      "metadata": {
        "id": "eJyp44udohdf"
      },
      "outputs": [],
      "source": [
        "def palindrome(word):\n",
        "  if word == word[::-1] :\n",
        "    print(\"Yes\")\n",
        "  else:\n",
        "     print(\"No\")"
      ]
    },
    {
      "cell_type": "code",
      "source": [
        "palindrome(\"ok\")"
      ],
      "metadata": {
        "colab": {
          "base_uri": "https://localhost:8080/"
        },
        "id": "B_rIeAojpWaB",
        "outputId": "cd0e7ee0-8780-4884-a2fc-c3ddf54575d1"
      },
      "execution_count": 5,
      "outputs": [
        {
          "output_type": "stream",
          "name": "stdout",
          "text": [
            "No\n"
          ]
        }
      ]
    },
    {
      "cell_type": "code",
      "source": [
        "palindrome('madam')"
      ],
      "metadata": {
        "colab": {
          "base_uri": "https://localhost:8080/"
        },
        "id": "UGF5w-rWo-Js",
        "outputId": "e9b94d84-3bd9-4a84-a144-fe35037b8523"
      },
      "execution_count": 3,
      "outputs": [
        {
          "output_type": "stream",
          "name": "stdout",
          "text": [
            "yes\n"
          ]
        }
      ]
    },
    {
      "cell_type": "markdown",
      "source": [
        "**Write a Python function that takes a number as a parameter and checks if the number is prime or not.**"
      ],
      "metadata": {
        "id": "3NNsSWITprh6"
      }
    },
    {
      "cell_type": "code",
      "source": [
        "def prime(number):\n",
        "  for i in range(2,number):\n",
        "    if ((number % i) == 0) :\n",
        "     return \"Not prime!\"\n",
        "  return \"Prime!\""
      ],
      "metadata": {
        "id": "ymRJtfPips21"
      },
      "execution_count": 15,
      "outputs": []
    },
    {
      "cell_type": "code",
      "source": [
        "prime(4)"
      ],
      "metadata": {
        "id": "34MDwDrJr-yL",
        "outputId": "940f4f3d-bdf0-45a8-cc88-555b1b7afa42",
        "colab": {
          "base_uri": "https://localhost:8080/",
          "height": 36
        }
      },
      "execution_count": 17,
      "outputs": [
        {
          "output_type": "execute_result",
          "data": {
            "application/vnd.google.colaboratory.intrinsic+json": {
              "type": "string"
            },
            "text/plain": [
              "'Not prime!'"
            ]
          },
          "metadata": {},
          "execution_count": 17
        }
      ]
    },
    {
      "cell_type": "code",
      "source": [
        "prime(5)"
      ],
      "metadata": {
        "id": "vilc1GASsicb",
        "outputId": "4d9e3de5-a344-4d10-d828-12b8e3eb03c8",
        "colab": {
          "base_uri": "https://localhost:8080/",
          "height": 36
        }
      },
      "execution_count": 18,
      "outputs": [
        {
          "output_type": "execute_result",
          "data": {
            "application/vnd.google.colaboratory.intrinsic+json": {
              "type": "string"
            },
            "text/plain": [
              "'Prime!'"
            ]
          },
          "metadata": {},
          "execution_count": 18
        }
      ]
    },
    {
      "cell_type": "markdown",
      "source": [
        "**Write a Python function to check whether a number is in a given range**"
      ],
      "metadata": {
        "id": "ppBApzSisxZG"
      }
    },
    {
      "cell_type": "code",
      "source": [
        "def range(number, inf, sup):\n",
        "  if inf <= number <= sup:\n",
        "   return True\n",
        "  else:\n",
        "   return False"
      ],
      "metadata": {
        "id": "nDlrp7gusyWb"
      },
      "execution_count": 27,
      "outputs": []
    },
    {
      "cell_type": "code",
      "source": [
        "range(5,1,10)"
      ],
      "metadata": {
        "id": "i-Zi8plBtZHx",
        "outputId": "ec29368b-c76d-45b6-b4aa-6882f96588ec",
        "colab": {
          "base_uri": "https://localhost:8080/"
        }
      },
      "execution_count": 25,
      "outputs": [
        {
          "output_type": "execute_result",
          "data": {
            "text/plain": [
              "True"
            ]
          },
          "metadata": {},
          "execution_count": 25
        }
      ]
    },
    {
      "cell_type": "code",
      "source": [
        "range(15,1,10)"
      ],
      "metadata": {
        "id": "81--8QJItYQz",
        "outputId": "dc87e188-e2fc-4b8a-cb34-b6e7fb078295",
        "colab": {
          "base_uri": "https://localhost:8080/"
        }
      },
      "execution_count": 26,
      "outputs": [
        {
          "output_type": "execute_result",
          "data": {
            "text/plain": [
              "False"
            ]
          },
          "metadata": {},
          "execution_count": 26
        }
      ]
    },
    {
      "cell_type": "markdown",
      "source": [
        "**Write a Python function to calculate the factorial of a number (a non-negative integer). The function accepts the number as an argument.**"
      ],
      "metadata": {
        "id": "hNneM7_WueC-"
      }
    },
    {
      "cell_type": "code",
      "source": [
        "def factorial(number):\n",
        "  if (number < 0):\n",
        "    return False\n",
        "  else:\n",
        "    return 1 if (number==1 or number==0) else number * factorial(number - 1)"
      ],
      "metadata": {
        "id": "WMSJo5IjufCV"
      },
      "execution_count": 54,
      "outputs": []
    },
    {
      "cell_type": "code",
      "source": [
        "factorial(5)"
      ],
      "metadata": {
        "id": "XXOM1XdNyg_u",
        "outputId": "721509a4-c90e-49a5-8b39-4fdd6eff4beb",
        "colab": {
          "base_uri": "https://localhost:8080/"
        }
      },
      "execution_count": 55,
      "outputs": [
        {
          "output_type": "execute_result",
          "data": {
            "text/plain": [
              "120"
            ]
          },
          "metadata": {},
          "execution_count": 55
        }
      ]
    },
    {
      "cell_type": "code",
      "source": [
        "factorial(-5)"
      ],
      "metadata": {
        "id": "LzigSBI9yjdu",
        "outputId": "bf4f271d-34c1-4e9f-cd2a-848f0dcb12d1",
        "colab": {
          "base_uri": "https://localhost:8080/"
        }
      },
      "execution_count": 56,
      "outputs": [
        {
          "output_type": "execute_result",
          "data": {
            "text/plain": [
              "False"
            ]
          },
          "metadata": {},
          "execution_count": 56
        }
      ]
    },
    {
      "cell_type": "markdown",
      "source": [
        "**Write a Python program to reverse a string.**"
      ],
      "metadata": {
        "id": "qaSEomltufPp"
      }
    },
    {
      "cell_type": "code",
      "source": [
        "def reverse(string):\n",
        "  return string[::-1]\n"
      ],
      "metadata": {
        "id": "ZONLOCghui8s"
      },
      "execution_count": 28,
      "outputs": []
    },
    {
      "cell_type": "code",
      "source": [
        "reverse(\"ikram\")"
      ],
      "metadata": {
        "id": "ZEcsWWhTu4v8",
        "outputId": "aef5e310-c6dc-4f23-d765-373907e52007",
        "colab": {
          "base_uri": "https://localhost:8080/",
          "height": 36
        }
      },
      "execution_count": 29,
      "outputs": [
        {
          "output_type": "execute_result",
          "data": {
            "application/vnd.google.colaboratory.intrinsic+json": {
              "type": "string"
            },
            "text/plain": [
              "'marki'"
            ]
          },
          "metadata": {},
          "execution_count": 29
        }
      ]
    },
    {
      "cell_type": "markdown",
      "source": [
        "**Write a Python function to sum all the numbers in a list.**"
      ],
      "metadata": {
        "id": "gIu-FiFBul4O"
      }
    },
    {
      "cell_type": "code",
      "source": [
        "def sum_loop(numbers):\n",
        "  sum = 0\n",
        "  for number in numbers:\n",
        "    sum += number\n",
        "  return sum"
      ],
      "metadata": {
        "id": "ru5AulZJup4r"
      },
      "execution_count": 32,
      "outputs": []
    },
    {
      "cell_type": "code",
      "source": [
        "numbers = [1, 2, 3]\n",
        "sum_loop(numbers)\n"
      ],
      "metadata": {
        "id": "s5738kt0vby-",
        "outputId": "a05df4a8-b7c4-40c3-838b-12f1e8be72c9",
        "colab": {
          "base_uri": "https://localhost:8080/"
        }
      },
      "execution_count": 43,
      "outputs": [
        {
          "output_type": "execute_result",
          "data": {
            "text/plain": [
              "6"
            ]
          },
          "metadata": {},
          "execution_count": 43
        }
      ]
    },
    {
      "cell_type": "markdown",
      "source": [
        "**Write a Python function to find the Max of three numbers.**"
      ],
      "metadata": {
        "id": "r19nUyERuqiX"
      }
    },
    {
      "cell_type": "code",
      "source": [
        "def max_3(number1, number2, number3):\n",
        "  if (number1 > number2) :\n",
        "    if (number1 > number3) : \n",
        "      return number1\n",
        "    else:\n",
        "      return number3\n",
        "  elif (number2 > number3):\n",
        "    return number2\n",
        "  else:\n",
        "    return number3\n",
        "  \n"
      ],
      "metadata": {
        "id": "diWwsvwuwNpX"
      },
      "execution_count": 51,
      "outputs": []
    },
    {
      "cell_type": "code",
      "source": [
        "max_3(13,12,25)"
      ],
      "metadata": {
        "id": "9BgI3JUHw5Aa",
        "outputId": "f0d8e6e9-2df3-488e-c287-f00f62f29fd3",
        "colab": {
          "base_uri": "https://localhost:8080/"
        }
      },
      "execution_count": 52,
      "outputs": [
        {
          "output_type": "execute_result",
          "data": {
            "text/plain": [
              "25"
            ]
          },
          "metadata": {},
          "execution_count": 52
        }
      ]
    }
  ]
}
