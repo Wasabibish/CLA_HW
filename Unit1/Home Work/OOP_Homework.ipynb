{
  "nbformat": 4,
  "nbformat_minor": 0,
  "metadata": {
    "colab": {
      "name": "OOP Homework",
      "provenance": [],
      "authorship_tag": "ABX9TyPoUIICuXkUN4pGVpN88k4r",
      "include_colab_link": true
    },
    "kernelspec": {
      "name": "python3",
      "display_name": "Python 3"
    },
    "language_info": {
      "name": "python"
    }
  },
  "cells": [
    {
      "cell_type": "markdown",
      "metadata": {
        "id": "view-in-github",
        "colab_type": "text"
      },
      "source": [
        "<a href=\"https://colab.research.google.com/github/Wasabibish/CLA_HW/blob/main/OOP_Homework.ipynb\" target=\"_parent\"><img src=\"https://colab.research.google.com/assets/colab-badge.svg\" alt=\"Open In Colab\"/></a>"
      ]
    },
    {
      "cell_type": "markdown",
      "source": [
        "**Write a Python class named Rectangle constructed by a length and width and a method which will compute the area of a rectangle.**"
      ],
      "metadata": {
        "id": "tkSK3kLi6JB7"
      }
    },
    {
      "cell_type": "code",
      "execution_count": 3,
      "metadata": {
        "id": "eWUrO8ng59Fy"
      },
      "outputs": [],
      "source": [
        "class Rectangle:\n",
        "\n",
        "  def __init__(self, length, width):\n",
        "    self.lenght = length\n",
        "    self.width = width\n",
        "\n",
        "  def area(self):\n",
        "    return self.lenght * self.width\n"
      ]
    },
    {
      "cell_type": "code",
      "source": [
        "rectangle = Rectangle(3,4)\n",
        "rectangle.area()"
      ],
      "metadata": {
        "colab": {
          "base_uri": "https://localhost:8080/"
        },
        "id": "UPZHPpkM8ncK",
        "outputId": "4b13f9df-6ad5-435f-e877-7e93ebc71c11"
      },
      "execution_count": 5,
      "outputs": [
        {
          "output_type": "execute_result",
          "data": {
            "text/plain": [
              "12"
            ]
          },
          "metadata": {},
          "execution_count": 5
        }
      ]
    },
    {
      "cell_type": "markdown",
      "source": [
        "**Create a Vehicle class with max_speed and mileage instance attributes**"
      ],
      "metadata": {
        "id": "EMcx53-p7pRJ"
      }
    },
    {
      "cell_type": "code",
      "source": [
        "class Vehicle:\n",
        "\n",
        "  def __init__(self, max_speed, mileage):\n",
        "    self.max_speed = max_speed\n",
        "    self.mileage = mileage\n",
        "  \n",
        "  def show(self):\n",
        "    return (self.max_speed, self.mileage)\n"
      ],
      "metadata": {
        "id": "L-E8WLDe7q_v"
      },
      "execution_count": 2,
      "outputs": []
    },
    {
      "cell_type": "code",
      "source": [
        "vehicle = Vehicle(12,20)\n",
        "vehicle.show()"
      ],
      "metadata": {
        "colab": {
          "base_uri": "https://localhost:8080/"
        },
        "id": "lOL_hVs09kTn",
        "outputId": "822d96e2-2496-44d0-a40b-f57745996e04"
      },
      "execution_count": 3,
      "outputs": [
        {
          "output_type": "execute_result",
          "data": {
            "text/plain": [
              "(12, 20)"
            ]
          },
          "metadata": {},
          "execution_count": 3
        }
      ]
    },
    {
      "cell_type": "markdown",
      "source": [
        "**Create a Vehicle class without any variables and methods.**\n",
        "\n"
      ],
      "metadata": {
        "id": "p4UXCP0d7z_b"
      }
    },
    {
      "cell_type": "code",
      "source": [
        "class Vehicle:\n",
        "\n",
        "  def __init__(self):\n",
        "    pass"
      ],
      "metadata": {
        "id": "iHZGsxDk73DT"
      },
      "execution_count": 8,
      "outputs": []
    },
    {
      "cell_type": "code",
      "source": [
        "vehicle2 = Vehicle()"
      ],
      "metadata": {
        "id": "uI3x51x19u0h"
      },
      "execution_count": 9,
      "outputs": []
    },
    {
      "cell_type": "markdown",
      "source": [
        "**Create a child class Bus that will inherit all of the variables and methods of the Vehicle class.**"
      ],
      "metadata": {
        "id": "dUnSHnih73QD"
      }
    },
    {
      "cell_type": "code",
      "source": [
        "class Bus(Vehicle):\n",
        "\n",
        "  def __init__(self, max_speed, mileage, places):\n",
        "    super().__init__(max_speed, mileage)\n",
        "    self.places = places\n",
        "\n",
        "\n",
        " \n",
        "  \n"
      ],
      "metadata": {
        "id": "xSIKBzn5-Pv9"
      },
      "execution_count": 45,
      "outputs": []
    },
    {
      "cell_type": "code",
      "source": [
        "bus = Bus(15,50,30)\n",
        "bus.show()"
      ],
      "metadata": {
        "colab": {
          "base_uri": "https://localhost:8080/"
        },
        "id": "gJFqPyaB_TUd",
        "outputId": "00b00e06-31b9-4c1f-b35e-fd50945e7b4f"
      },
      "execution_count": 46,
      "outputs": [
        {
          "output_type": "execute_result",
          "data": {
            "text/plain": [
              "(15, 50)"
            ]
          },
          "metadata": {},
          "execution_count": 46
        }
      ]
    }
  ]
}
