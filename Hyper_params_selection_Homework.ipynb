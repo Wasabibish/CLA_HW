{
  "nbformat": 4,
  "nbformat_minor": 0,
  "metadata": {
    "colab": {
      "name": "Hyper params selection Homework",
      "provenance": [],
      "authorship_tag": "ABX9TyPQsioCmH2aavO7FOgoYHEn",
      "include_colab_link": true
    },
    "kernelspec": {
      "name": "python3",
      "display_name": "Python 3"
    },
    "language_info": {
      "name": "python"
    }
  },
  "cells": [
    {
      "cell_type": "markdown",
      "metadata": {
        "id": "view-in-github",
        "colab_type": "text"
      },
      "source": [
        "<a href=\"https://colab.research.google.com/github/Wasabibish/CLA_HW/blob/main/Hyper_params_selection_Homework.ipynb\" target=\"_parent\"><img src=\"https://colab.research.google.com/assets/colab-badge.svg\" alt=\"Open In Colab\"/></a>"
      ]
    },
    {
      "cell_type": "code",
      "execution_count": 1,
      "metadata": {
        "id": "JAejlL0yp4HB"
      },
      "outputs": [],
      "source": [
        "from sklearn.datasets import load_digits\n",
        "from sklearn import svm\n",
        "from sklearn.model_selection import GridSearchCV, train_test_split\n",
        "from sklearn.metrics import classification_report\n",
        "\n",
        "import autosklearn.classification as automl\n"
      ]
    },
    {
      "cell_type": "markdown",
      "source": [
        "**Dataset to be used is the Digits dataset from sklearn**"
      ],
      "metadata": {
        "id": "3BGh2eL1fpfW"
      }
    },
    {
      "cell_type": "code",
      "source": [
        "digits = load_digits()\n",
        "digits.data.shape\n",
        "X = digits.data\n",
        "y = digits.target"
      ],
      "metadata": {
        "id": "ccOA26opqBz9"
      },
      "execution_count": 2,
      "outputs": []
    },
    {
      "cell_type": "code",
      "source": [
        "X_train, X_test, y_train, y_test = train_test_split(X, y, test_size=0.33, random_state=42)     "
      ],
      "metadata": {
        "id": "97ShP0iFUKFx"
      },
      "execution_count": 3,
      "outputs": []
    },
    {
      "cell_type": "markdown",
      "source": [
        "**First use the support vector machine classifier along with Grid search to get the best SVC classifier possible for this task**"
      ],
      "metadata": {
        "id": "mQwgQ4DZfwNY"
      }
    },
    {
      "cell_type": "code",
      "source": [
        "%%time\n",
        "parameters = {'kernel':('linear', 'rbf'), 'C':[1, 10]}\n",
        "svc = svm.SVC()\n",
        "model = GridSearchCV(svc, parameters)\n",
        "model.fit(X_train, y_train)\n",
        "y_pred = model.predict(X_test)"
      ],
      "metadata": {
        "id": "KUCLhwBnqevz",
        "colab": {
          "base_uri": "https://localhost:8080/"
        },
        "outputId": "fc875977-95c5-4670-e151-7bda81224550"
      },
      "execution_count": 4,
      "outputs": [
        {
          "output_type": "stream",
          "name": "stdout",
          "text": [
            "CPU times: user 688 ms, sys: 6.91 ms, total: 695 ms\n",
            "Wall time: 699 ms\n"
          ]
        }
      ]
    },
    {
      "cell_type": "code",
      "source": [
        "print(classification_report(y_test, y_pred))"
      ],
      "metadata": {
        "colab": {
          "base_uri": "https://localhost:8080/"
        },
        "id": "KD1uohdbTqAC",
        "outputId": "771799fb-e6ef-4834-9207-46fdd29d6a58"
      },
      "execution_count": 5,
      "outputs": [
        {
          "output_type": "stream",
          "name": "stdout",
          "text": [
            "              precision    recall  f1-score   support\n",
            "\n",
            "           0       1.00      1.00      1.00        55\n",
            "           1       0.98      1.00      0.99        55\n",
            "           2       0.98      1.00      0.99        52\n",
            "           3       1.00      0.96      0.98        56\n",
            "           4       1.00      1.00      1.00        64\n",
            "           5       0.99      0.99      0.99        73\n",
            "           6       1.00      1.00      1.00        57\n",
            "           7       0.98      0.98      0.98        62\n",
            "           8       0.98      0.98      0.98        52\n",
            "           9       0.97      0.97      0.97        68\n",
            "\n",
            "    accuracy                           0.99       594\n",
            "   macro avg       0.99      0.99      0.99       594\n",
            "weighted avg       0.99      0.99      0.99       594\n",
            "\n"
          ]
        }
      ]
    },
    {
      "cell_type": "code",
      "source": [
        "model.best_params_"
      ],
      "metadata": {
        "colab": {
          "base_uri": "https://localhost:8080/"
        },
        "id": "2bLFjZQxl5lY",
        "outputId": "dcb8e38a-9436-4819-90a8-c4c967d4a3b9"
      },
      "execution_count": 6,
      "outputs": [
        {
          "output_type": "execute_result",
          "data": {
            "text/plain": [
              "{'C': 10, 'kernel': 'rbf'}"
            ]
          },
          "metadata": {},
          "execution_count": 6
        }
      ]
    },
    {
      "cell_type": "markdown",
      "source": [
        "**Next you will be using the auto sklearn to find the best fitting classifier for this dataset**"
      ],
      "metadata": {
        "id": "HErI333NmfEj"
      }
    },
    {
      "cell_type": "code",
      "source": [
        "%%time\n",
        "cls = automl.AutoSklearnClassifier(time_left_for_this_task=60)\n",
        "cls.fit(X_train, y_train)\n",
        "predictions = cls.predict(X_test)"
      ],
      "metadata": {
        "colab": {
          "base_uri": "https://localhost:8080/"
        },
        "id": "XqLsvG7am5XT",
        "outputId": "28de5561-69e8-4082-dd70-376e430895cc"
      },
      "execution_count": 7,
      "outputs": [
        {
          "output_type": "stream",
          "name": "stdout",
          "text": [
            "CPU times: user 2.25 s, sys: 721 ms, total: 2.97 s\n",
            "Wall time: 56.3 s\n"
          ]
        }
      ]
    },
    {
      "cell_type": "code",
      "source": [
        "print(classification_report(y_test, predictions))"
      ],
      "metadata": {
        "colab": {
          "base_uri": "https://localhost:8080/"
        },
        "id": "CIma1RmqnlYK",
        "outputId": "1a381cc4-06ec-4b5c-8b3e-195b6d925d0f"
      },
      "execution_count": 8,
      "outputs": [
        {
          "output_type": "stream",
          "name": "stdout",
          "text": [
            "              precision    recall  f1-score   support\n",
            "\n",
            "           0       1.00      1.00      1.00        55\n",
            "           1       0.98      1.00      0.99        55\n",
            "           2       1.00      1.00      1.00        52\n",
            "           3       0.98      0.98      0.98        56\n",
            "           4       1.00      1.00      1.00        64\n",
            "           5       0.97      1.00      0.99        73\n",
            "           6       1.00      0.98      0.99        57\n",
            "           7       0.98      0.98      0.98        62\n",
            "           8       0.98      0.98      0.98        52\n",
            "           9       0.98      0.96      0.97        68\n",
            "\n",
            "    accuracy                           0.99       594\n",
            "   macro avg       0.99      0.99      0.99       594\n",
            "weighted avg       0.99      0.99      0.99       594\n",
            "\n"
          ]
        }
      ]
    },
    {
      "cell_type": "code",
      "source": [
        "print(cls.sprint_statistics())"
      ],
      "metadata": {
        "colab": {
          "base_uri": "https://localhost:8080/"
        },
        "id": "z1JYXz0700yl",
        "outputId": "977d0b8d-6b21-4d3e-da8a-0fa0611a99fb"
      },
      "execution_count": 14,
      "outputs": [
        {
          "output_type": "stream",
          "name": "stdout",
          "text": [
            "auto-sklearn results:\n",
            "  Dataset name: e944b9e4-a920-11ec-8173-0242ac1c0002\n",
            "  Metric: accuracy\n",
            "  Best validation score: 0.989924\n",
            "  Number of target algorithm runs: 14\n",
            "  Number of successful target algorithm runs: 10\n",
            "  Number of crashed target algorithm runs: 0\n",
            "  Number of target algorithms that exceeded the time limit: 3\n",
            "  Number of target algorithms that exceeded the memory limit: 1\n",
            "\n"
          ]
        }
      ]
    },
    {
      "cell_type": "markdown",
      "source": [
        "**Compare the results in terms of (execution time, model complexity, and model performance)**\n",
        "\n",
        "\n",
        "\n",
        "---\n",
        "\n",
        "\n",
        "\n",
        "> **Execution Time**\n",
        "\n",
        "\n",
        "*   SVC Classifier: 699 ms\n",
        "*   Auto Classifier: 56.3 s\n",
        "\n",
        "We notite thatAuto classifier takes more time, because it chooses an algorithm that fits our data between algorithms\n",
        "\n",
        "\n",
        "---\n",
        "\n",
        "\n",
        "> **Model Complexity**\n",
        "\n",
        "*   SVC Classifier:  \n",
        "*   Auto Classifier:\n",
        "\n",
        "I didn't get what is complexity, is it like (time, space complexity) or the complexity as if our model is simple or cemplex\n",
        "\n",
        "---\n",
        "\n",
        "\n",
        "> **Model Performance**\n",
        "\n",
        "*   SVC Classifier: 0.99 accuracy\n",
        "*   Auto Classifier: 0.99 accuracy\n",
        "\n",
        "Both algorithms performed well, with an accuracy equal to 0.99\n",
        "\n"
      ],
      "metadata": {
        "id": "pKOdtHaPmkGr"
      }
    }
  ]
}